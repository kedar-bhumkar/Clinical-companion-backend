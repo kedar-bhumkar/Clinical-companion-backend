{
  "cells": [
    {
      "cell_type": "markdown",
      "metadata": {
        "id": "view-in-github",
        "colab_type": "text"
      },
      "source": [
        "<a href=\"https://colab.research.google.com/github/kedar-bhumkar/Clinical-companion-backend/blob/main/singular.ipynb\" target=\"_parent\"><img src=\"https://colab.research.google.com/assets/colab-badge.svg\" alt=\"Open In Colab\"/></a>"
      ]
    },
    {
      "cell_type": "code",
      "source": [
        "pip install fastapi pydantic openai PyYAML tiktoken duckduckgo_search langchain langchain_openai faker asyncio"
      ],
      "metadata": {
        "colab": {
          "base_uri": "https://localhost:8080/"
        },
        "id": "WPG7d7L58FlB",
        "outputId": "98589349-903a-4c41-b528-df0ad3919fad"
      },
      "id": "WPG7d7L58FlB",
      "execution_count": 57,
      "outputs": [
        {
          "output_type": "stream",
          "name": "stdout",
          "text": [
            "Requirement already satisfied: fastapi in /usr/local/lib/python3.10/dist-packages (0.115.0)\n",
            "Requirement already satisfied: pydantic in /usr/local/lib/python3.10/dist-packages (2.9.2)\n",
            "Requirement already satisfied: openai in /usr/local/lib/python3.10/dist-packages (1.51.1)\n",
            "Requirement already satisfied: PyYAML in /usr/local/lib/python3.10/dist-packages (6.0.2)\n",
            "Requirement already satisfied: tiktoken in /usr/local/lib/python3.10/dist-packages (0.8.0)\n",
            "Requirement already satisfied: duckduckgo_search in /usr/local/lib/python3.10/dist-packages (6.3.0)\n",
            "Requirement already satisfied: langchain in /usr/local/lib/python3.10/dist-packages (0.3.2)\n",
            "Requirement already satisfied: langchain_openai in /usr/local/lib/python3.10/dist-packages (0.2.2)\n",
            "Requirement already satisfied: faker in /usr/local/lib/python3.10/dist-packages (30.3.0)\n",
            "Requirement already satisfied: asyncio in /usr/local/lib/python3.10/dist-packages (3.4.3)\n",
            "Requirement already satisfied: starlette<0.39.0,>=0.37.2 in /usr/local/lib/python3.10/dist-packages (from fastapi) (0.38.6)\n",
            "Requirement already satisfied: typing-extensions>=4.8.0 in /usr/local/lib/python3.10/dist-packages (from fastapi) (4.12.2)\n",
            "Requirement already satisfied: annotated-types>=0.6.0 in /usr/local/lib/python3.10/dist-packages (from pydantic) (0.7.0)\n",
            "Requirement already satisfied: pydantic-core==2.23.4 in /usr/local/lib/python3.10/dist-packages (from pydantic) (2.23.4)\n",
            "Requirement already satisfied: anyio<5,>=3.5.0 in /usr/local/lib/python3.10/dist-packages (from openai) (3.7.1)\n",
            "Requirement already satisfied: distro<2,>=1.7.0 in /usr/lib/python3/dist-packages (from openai) (1.7.0)\n",
            "Requirement already satisfied: httpx<1,>=0.23.0 in /usr/local/lib/python3.10/dist-packages (from openai) (0.27.2)\n",
            "Requirement already satisfied: jiter<1,>=0.4.0 in /usr/local/lib/python3.10/dist-packages (from openai) (0.6.0)\n",
            "Requirement already satisfied: sniffio in /usr/local/lib/python3.10/dist-packages (from openai) (1.3.1)\n",
            "Requirement already satisfied: tqdm>4 in /usr/local/lib/python3.10/dist-packages (from openai) (4.66.5)\n",
            "Requirement already satisfied: regex>=2022.1.18 in /usr/local/lib/python3.10/dist-packages (from tiktoken) (2024.9.11)\n",
            "Requirement already satisfied: requests>=2.26.0 in /usr/local/lib/python3.10/dist-packages (from tiktoken) (2.32.3)\n",
            "Requirement already satisfied: click>=8.1.7 in /usr/local/lib/python3.10/dist-packages (from duckduckgo_search) (8.1.7)\n",
            "Requirement already satisfied: primp>=0.6.3 in /usr/local/lib/python3.10/dist-packages (from duckduckgo_search) (0.6.3)\n",
            "Requirement already satisfied: SQLAlchemy<3,>=1.4 in /usr/local/lib/python3.10/dist-packages (from langchain) (2.0.35)\n",
            "Requirement already satisfied: aiohttp<4.0.0,>=3.8.3 in /usr/local/lib/python3.10/dist-packages (from langchain) (3.10.8)\n",
            "Requirement already satisfied: async-timeout<5.0.0,>=4.0.0 in /usr/local/lib/python3.10/dist-packages (from langchain) (4.0.3)\n",
            "Requirement already satisfied: langchain-core<0.4.0,>=0.3.8 in /usr/local/lib/python3.10/dist-packages (from langchain) (0.3.9)\n",
            "Requirement already satisfied: langchain-text-splitters<0.4.0,>=0.3.0 in /usr/local/lib/python3.10/dist-packages (from langchain) (0.3.0)\n",
            "Requirement already satisfied: langsmith<0.2.0,>=0.1.17 in /usr/local/lib/python3.10/dist-packages (from langchain) (0.1.131)\n",
            "Requirement already satisfied: numpy<2,>=1 in /usr/local/lib/python3.10/dist-packages (from langchain) (1.26.4)\n",
            "Requirement already satisfied: tenacity!=8.4.0,<9.0.0,>=8.1.0 in /usr/local/lib/python3.10/dist-packages (from langchain) (8.5.0)\n",
            "Requirement already satisfied: python-dateutil>=2.4 in /usr/local/lib/python3.10/dist-packages (from faker) (2.8.2)\n",
            "Requirement already satisfied: aiohappyeyeballs>=2.3.0 in /usr/local/lib/python3.10/dist-packages (from aiohttp<4.0.0,>=3.8.3->langchain) (2.4.3)\n",
            "Requirement already satisfied: aiosignal>=1.1.2 in /usr/local/lib/python3.10/dist-packages (from aiohttp<4.0.0,>=3.8.3->langchain) (1.3.1)\n",
            "Requirement already satisfied: attrs>=17.3.0 in /usr/local/lib/python3.10/dist-packages (from aiohttp<4.0.0,>=3.8.3->langchain) (24.2.0)\n",
            "Requirement already satisfied: frozenlist>=1.1.1 in /usr/local/lib/python3.10/dist-packages (from aiohttp<4.0.0,>=3.8.3->langchain) (1.4.1)\n",
            "Requirement already satisfied: multidict<7.0,>=4.5 in /usr/local/lib/python3.10/dist-packages (from aiohttp<4.0.0,>=3.8.3->langchain) (6.1.0)\n",
            "Requirement already satisfied: yarl<2.0,>=1.12.0 in /usr/local/lib/python3.10/dist-packages (from aiohttp<4.0.0,>=3.8.3->langchain) (1.13.1)\n",
            "Requirement already satisfied: idna>=2.8 in /usr/local/lib/python3.10/dist-packages (from anyio<5,>=3.5.0->openai) (3.10)\n",
            "Requirement already satisfied: exceptiongroup in /usr/local/lib/python3.10/dist-packages (from anyio<5,>=3.5.0->openai) (1.2.2)\n",
            "Requirement already satisfied: certifi in /usr/local/lib/python3.10/dist-packages (from httpx<1,>=0.23.0->openai) (2024.8.30)\n",
            "Requirement already satisfied: httpcore==1.* in /usr/local/lib/python3.10/dist-packages (from httpx<1,>=0.23.0->openai) (1.0.6)\n",
            "Requirement already satisfied: h11<0.15,>=0.13 in /usr/local/lib/python3.10/dist-packages (from httpcore==1.*->httpx<1,>=0.23.0->openai) (0.14.0)\n",
            "Requirement already satisfied: jsonpatch<2.0,>=1.33 in /usr/local/lib/python3.10/dist-packages (from langchain-core<0.4.0,>=0.3.8->langchain) (1.33)\n",
            "Requirement already satisfied: packaging<25,>=23.2 in /usr/local/lib/python3.10/dist-packages (from langchain-core<0.4.0,>=0.3.8->langchain) (24.1)\n",
            "Requirement already satisfied: orjson<4.0.0,>=3.9.14 in /usr/local/lib/python3.10/dist-packages (from langsmith<0.2.0,>=0.1.17->langchain) (3.10.7)\n",
            "Requirement already satisfied: requests-toolbelt<2.0.0,>=1.0.0 in /usr/local/lib/python3.10/dist-packages (from langsmith<0.2.0,>=0.1.17->langchain) (1.0.0)\n",
            "Requirement already satisfied: six>=1.5 in /usr/local/lib/python3.10/dist-packages (from python-dateutil>=2.4->faker) (1.16.0)\n",
            "Requirement already satisfied: charset-normalizer<4,>=2 in /usr/local/lib/python3.10/dist-packages (from requests>=2.26.0->tiktoken) (3.3.2)\n",
            "Requirement already satisfied: urllib3<3,>=1.21.1 in /usr/local/lib/python3.10/dist-packages (from requests>=2.26.0->tiktoken) (2.2.3)\n",
            "Requirement already satisfied: greenlet!=0.4.17 in /usr/local/lib/python3.10/dist-packages (from SQLAlchemy<3,>=1.4->langchain) (3.1.1)\n",
            "Requirement already satisfied: jsonpointer>=1.9 in /usr/local/lib/python3.10/dist-packages (from jsonpatch<2.0,>=1.33->langchain-core<0.4.0,>=0.3.8->langchain) (3.0.0)\n"
          ]
        }
      ]
    },
    {
      "cell_type": "code",
      "execution_count": 58,
      "id": "fef64b7f",
      "metadata": {
        "id": "fef64b7f"
      },
      "outputs": [],
      "source": [
        "import json\n",
        "import yaml\n",
        "import random\n",
        "import re\n",
        "from difflib import *\n",
        "import tiktoken\n",
        "from typing import List, Dict, Any, Optional\n",
        "from datetime import date, datetime, timedelta\n",
        "from pydantic import BaseModel, Field\n",
        "from fastapi import FastAPI, Request\n",
        "import time\n",
        "from fastapi.middleware.cors import CORSMiddleware\n",
        "from contextlib import asynccontextmanager\n",
        "from openai import OpenAI\n",
        "import duckduckgo_search\n",
        "from langchain.agents import tool\n",
        "from faker import Faker\n",
        "from langchain_openai import ChatOpenAI\n",
        "from langchain.agents import tool\n",
        "from langchain_core.prompts import ChatPromptTemplate, MessagesPlaceholder\n",
        "from langchain.agents.format_scratchpad.openai_tools import (\n",
        "    format_to_openai_tool_messages,\n",
        ")\n",
        "from langchain_core.messages import AIMessage, HumanMessage\n",
        "from langchain.agents.output_parsers.openai_tools import OpenAIToolsAgentOutputParser\n",
        "from langchain.agents import AgentExecutor\n",
        "import os, asyncio\n"
      ]
    },
    {
      "cell_type": "code",
      "execution_count": 59,
      "id": "efca4161",
      "metadata": {
        "id": "efca4161"
      },
      "outputs": [],
      "source": [
        "# Constants\n",
        "standard_model = \"gpt-3.5-turbo-0125\"\n",
        "config_file = \"./config/config.yaml\"\n",
        "prompts_file = \"./config/prompts.yaml\"\n",
        "db_conn_file = './config/db_config.yaml'\n",
        "action_file = './config/action.yaml'"
      ]
    },
    {
      "cell_type": "code",
      "execution_count": 60,
      "id": "d70efb61",
      "metadata": {
        "lines_to_next_cell": 1,
        "id": "d70efb61"
      },
      "outputs": [],
      "source": [
        "default_mode = \"serial\"\n",
        "default_page = \"demo\"\n",
        "default_model_family = \"openai\"\n",
        "default_model = \"gpt-4o\"\n",
        "default_usecase = \"demo\"\n",
        "default_temperature = 0.1\n",
        "default_run_mode = \"same-llm\"\n",
        "default_run_count = 1\n",
        "default_sleep = 0.75\n",
        "default_accuracy_check = \"ON\"\n",
        "default_encoding = \"cl100k_base\"\n",
        "default_fuzzy_matching_threshold = 80\n",
        "default_negative_prompt = \"ON\"\n",
        "default_formatter = \"ros_pe_formatter\"\n",
        "default_use_for_training = False\n",
        "default_error_detection = True"
      ]
    },
    {
      "cell_type": "code",
      "execution_count": 61,
      "id": "40c800a8",
      "metadata": {
        "lines_to_next_cell": 1,
        "id": "40c800a8"
      },
      "outputs": [],
      "source": [
        "# Pydantic models\n",
        "class Chat(BaseModel):\n",
        "    message: str\n",
        "    sender: str"
      ]
    },
    {
      "cell_type": "code",
      "execution_count": 62,
      "id": "4c8b47fa",
      "metadata": {
        "lines_to_next_cell": 1,
        "id": "4c8b47fa"
      },
      "outputs": [],
      "source": [
        "class Message(BaseModel):\n",
        "    page: Optional[str] = Field(default_page, description=\"Who sends the error message.\")\n",
        "    mode: Optional[str] = Field(default_mode, description=\"Who sends the error message.\")\n",
        "    family: Optional[str] = Field(default_model_family, description=\"Who sends the error message.\")\n",
        "    model: Optional[str] = Field(default_model, description=\"Who sends the error message.\")\n",
        "    negative_prompt: Optional[str] = Field(default_negative_prompt, description=\"Who sends the error message.\")\n",
        "    use_for_training: Optional[bool] = Field(default_use_for_training, description=\"use this for training.\")\n",
        "    message: Optional[str] = Field(None, description=\"The message to be sent to the model.\")\n",
        "    history: list[Chat] = Field(default_factory=list, description=\"List of messages to be sent to the model.\")\n",
        "    intent: Optional[str] = Field(None, description=\"The intent of the message.\")\n",
        "    entity: Optional[str] = Field(None, description=\"The entity of the message.\")\n",
        "    patient_id: Optional[str] = Field(None, description=\"The patient id of the message.\")\n",
        "    patient_ids: Optional[list[str]] = Field([\"1\"], description=\"The patient ids of the message.\")\n",
        "    form_data: Optional[str] = Field(None, description=\"The form data of the message used in auto complete.\")"
      ]
    },
    {
      "cell_type": "code",
      "execution_count": 63,
      "id": "d659fe16",
      "metadata": {
        "lines_to_next_cell": 1,
        "id": "d659fe16"
      },
      "outputs": [],
      "source": [
        "class Patient(BaseModel):\n",
        "    name: str\n",
        "    phone_number: str = Field(pattern=r'^\\+?1?\\d{9,15}$')\n",
        "    address: str\n",
        "    age: int = Field(ge=0, le=120)\n",
        "    gender: str\n",
        "    weight: float = Field(ge=0)\n",
        "    height: float = Field(ge=0)"
      ]
    },
    {
      "cell_type": "code",
      "execution_count": 64,
      "id": "69581179",
      "metadata": {
        "lines_to_next_cell": 1,
        "id": "69581179"
      },
      "outputs": [],
      "source": [
        "class Allergy(BaseModel):\n",
        "    allergy_name: str\n",
        "    loinc_code: str = Field(pattern=r'^[0-9]{1,5}-[0-9]$')\n",
        "    start_date: date\n",
        "    status: str\n",
        "    end_date: Optional[date] = None"
      ]
    },
    {
      "cell_type": "code",
      "execution_count": 65,
      "id": "aea4f7df",
      "metadata": {
        "lines_to_next_cell": 1,
        "id": "aea4f7df"
      },
      "outputs": [],
      "source": [
        "class PatientWithAllergies(BaseModel):\n",
        "    patient: Patient\n",
        "    allergies: List[Allergy]"
      ]
    },
    {
      "cell_type": "code",
      "execution_count": 66,
      "id": "74473875",
      "metadata": {
        "lines_to_next_cell": 1,
        "id": "74473875"
      },
      "outputs": [],
      "source": [
        "# Shared data instance\n",
        "class SharedData:\n",
        "    _instance = None\n",
        "\n",
        "    def __new__(cls):\n",
        "        if cls._instance is None:\n",
        "            cls._instance = super(SharedData, cls).__new__(cls)\n",
        "            cls._instance.data = {}\n",
        "        return cls._instance\n",
        "\n",
        "    def get_data(self, key):\n",
        "        return self.data.get(key, None)\n",
        "\n",
        "    def set_data(self, key, value):\n",
        "        self.data[key] = value\n",
        "\n",
        "    def clear(self, key=None):\n",
        "        if key is None:\n",
        "            self.data.clear()\n",
        "        elif key in self.data:\n",
        "            del self.data[key]"
      ]
    },
    {
      "cell_type": "code",
      "execution_count": 67,
      "id": "9e5d27e4",
      "metadata": {
        "lines_to_next_cell": 1,
        "id": "9e5d27e4"
      },
      "outputs": [],
      "source": [
        "shared_data_instance = SharedData()"
      ]
    },
    {
      "cell_type": "code",
      "execution_count": 68,
      "id": "efc7f505",
      "metadata": {
        "lines_to_next_cell": 1,
        "id": "efc7f505"
      },
      "outputs": [],
      "source": [
        "# Utility functions\n",
        "def getConfig(file_path):\n",
        "    with open(file_path, 'r') as file:\n",
        "        config = yaml.safe_load(file)\n",
        "    return config"
      ]
    },
    {
      "cell_type": "code",
      "execution_count": 69,
      "id": "7ed1cd95",
      "metadata": {
        "lines_to_next_cell": 1,
        "id": "7ed1cd95"
      },
      "outputs": [],
      "source": [
        "def num_tokens_from_string(string: str, encoding_name: str, type: str) -> int:\n",
        "    encoding = tiktoken.get_encoding(encoding_name)\n",
        "    num_tokens = len(encoding.encode(string))\n",
        "    print(f'For {type} the no of tokens are {num_tokens}')\n",
        "    return num_tokens"
      ]
    },
    {
      "cell_type": "code",
      "execution_count": 70,
      "id": "e4e742c9",
      "metadata": {
        "lines_to_next_cell": 1,
        "id": "e4e742c9"
      },
      "outputs": [],
      "source": [
        "def get_nested_value(config: Dict[str, Any], keys: list) -> Optional[Any]:\n",
        "    for key in keys:\n",
        "        if isinstance(config, dict) and key in config:\n",
        "            config = config[key]\n",
        "        else:\n",
        "            return None\n",
        "    return config"
      ]
    },
    {
      "cell_type": "code",
      "execution_count": 71,
      "id": "c808284d",
      "metadata": {
        "lines_to_next_cell": 1,
        "id": "c808284d"
      },
      "outputs": [],
      "source": [
        "def date_to_str(obj):\n",
        "    if isinstance(obj, date):\n",
        "        return obj.isoformat()\n",
        "    raise TypeError(f\"Object of type {type(obj)} is not JSON serializable\")"
      ]
    },
    {
      "cell_type": "code",
      "execution_count": 72,
      "id": "ddc3fc78",
      "metadata": {
        "lines_to_next_cell": 1,
        "id": "ddc3fc78"
      },
      "outputs": [],
      "source": [
        "# Mock data generation\n",
        "fake = Faker()"
      ]
    },
    {
      "cell_type": "code",
      "execution_count": 73,
      "id": "1655ec2a",
      "metadata": {
        "lines_to_next_cell": 1,
        "id": "1655ec2a"
      },
      "outputs": [],
      "source": [
        "def generate_patient_id() -> str:\n",
        "    return f\"P{fake.random_number(digits=6, fix_len=True)}\""
      ]
    },
    {
      "cell_type": "code",
      "execution_count": 74,
      "id": "a1dbd404",
      "metadata": {
        "lines_to_next_cell": 1,
        "id": "a1dbd404"
      },
      "outputs": [],
      "source": [
        "def getPatientSummary(patient_id: str) -> Dict[str, Any]:\n",
        "    return {\"Summary\": {\n",
        "        \"patient_id\": patient_id,\n",
        "        \"basic_info\": {\n",
        "            \"name\": fake.name(),\n",
        "            \"age\": random.randint(18, 90),\n",
        "            \"gender\": random.choice([\"Male\", \"Female\", \"Other\"]),\n",
        "            \"blood_type\": random.choice([\"A+\", \"A-\", \"B+\", \"B-\", \"AB+\", \"AB-\", \"O+\", \"O-\"]),\n",
        "            \"height\": round(random.uniform(150, 200), 1),\n",
        "            \"weight\": round(random.uniform(45, 120), 1),\n",
        "            \"is_member_self_responsible\": random.choice([True, False])\n",
        "        },\n",
        "        \"vitals\": getPatientVitals(patient_id),\n",
        "        \"allergies\": getPatientAllergies(patient_id),\n",
        "        \"conditions\": getPatientConditions(patient_id),\n",
        "        \"immunizations\": getPatientImmunizations(patient_id),\n",
        "        \"lab_results\": getPatientLabResults(patient_id),\n",
        "        \"procedures\": getPatientProcedures(patient_id),\n",
        "        \"medications\": getPatientMedications(patient_id),\n",
        "        \"appointments\": getPatientAppointments(patient_id),\n",
        "        \"messages\": getPatientMessages(patient_id),\n",
        "        \"soap_note\": getSoapNoteData()\n",
        "    }}"
      ]
    },
    {
      "cell_type": "code",
      "execution_count": 75,
      "id": "442af00a",
      "metadata": {
        "lines_to_next_cell": 1,
        "id": "442af00a"
      },
      "outputs": [],
      "source": [
        "def getPatientVitals(patient_id: str) -> Dict[str, Any]:\n",
        "    return  {\"Vitals\": {\n",
        "        \"patient_id\": patient_id,\n",
        "        \"temperature\": round(random.uniform(36.1, 37.5), 1),\n",
        "        \"heart_rate\": random.randint(60, 100),\n",
        "        \"blood_pressure\": f\"{random.randint(90, 140)}/{random.randint(60, 90)}\",\n",
        "        \"respiratory_rate\": random.randint(12, 20),\n",
        "        \"oxygen_saturation\": random.randint(95, 100),\n",
        "    }}"
      ]
    },
    {
      "cell_type": "code",
      "execution_count": 76,
      "id": "f03c5c1d",
      "metadata": {
        "lines_to_next_cell": 1,
        "id": "f03c5c1d"
      },
      "outputs": [],
      "source": [
        "def getPatientAllergies(patient_id: str) -> List[str]:\n",
        "    allergies = [\"Penicillin\", \"Peanuts\", \"Latex\", \"Aspirin\", \"Shellfish\", \"Eggs\", \"Soy\", \"Wheat\", \"Milk\", \"Tree nuts\"]\n",
        "    return random.sample(allergies, random.randint(0, 3))"
      ]
    },
    {
      "cell_type": "code",
      "execution_count": 77,
      "id": "51b4c859",
      "metadata": {
        "lines_to_next_cell": 1,
        "id": "51b4c859"
      },
      "outputs": [],
      "source": [
        "def getPatientConditions(patient_id: str) -> List[str]:\n",
        "    conditions = [\"Hypertension\", \"Type 2 Diabetes\", \"Asthma\", \"Osteoarthritis\", \"Depression\", \"Anxiety\", \"GERD\", \"Hypothyroidism\", \"Hyperlipidemia\", \"Chronic kidney disease\"]\n",
        "    return random.sample(conditions, random.randint(0, 4))"
      ]
    },
    {
      "cell_type": "code",
      "execution_count": 78,
      "id": "dad7a29e",
      "metadata": {
        "lines_to_next_cell": 1,
        "id": "dad7a29e"
      },
      "outputs": [],
      "source": [
        "def getPatientImmunizations(patient_id: str) -> List[Dict[str, Any]]:\n",
        "    immunizations = [\"Influenza\", \"Tetanus\", \"Hepatitis B\", \"MMR\", \"Pneumococcal\", \"HPV\", \"Varicella\", \"Shingles\"]\n",
        "    return [\n",
        "        {\n",
        "            \"name\": imm,\n",
        "            \"date\": fake.date_between(start_date=\"-5y\", end_date=\"today\").strftime(\"%Y-%m-%d\"),\n",
        "        }\n",
        "        for imm in random.sample(immunizations, random.randint(2, 5))\n",
        "    ]"
      ]
    },
    {
      "cell_type": "code",
      "execution_count": 79,
      "id": "149bda2b",
      "metadata": {
        "lines_to_next_cell": 1,
        "id": "149bda2b"
      },
      "outputs": [],
      "source": [
        "def getPatientLabResults(patient_id: str) -> List[Dict[str, Any]]:\n",
        "    lab_tests = [\"Complete Blood Count\", \"Lipid Panel\", \"Comprehensive Metabolic Panel\", \"Hemoglobin A1C\", \"Thyroid Function Tests\", \"Urinalysis\"]\n",
        "    return [\n",
        "        {\n",
        "            \"test_name\": test,\n",
        "            \"date\": fake.date_between(start_date=\"-1y\", end_date=\"today\").strftime(\"%Y-%m-%d\"),\n",
        "            \"result\": f\"{random.uniform(0.5, 2.0):.2f}\",\n",
        "            \"unit\": random.choice([\"mg/dL\", \"mmol/L\", \"%\", \"U/L\"]),\n",
        "            \"reference_range\": f\"{random.uniform(0.1, 0.9):.1f} - {random.uniform(1.1, 3.0):.1f}\",\n",
        "        }\n",
        "        for test in random.sample(lab_tests, random.randint(2, 4))\n",
        "    ]"
      ]
    },
    {
      "cell_type": "code",
      "execution_count": 80,
      "id": "87a4b3ec",
      "metadata": {
        "lines_to_next_cell": 1,
        "id": "87a4b3ec"
      },
      "outputs": [],
      "source": [
        "def getPatientProcedures(patient_id: str) -> List[Dict[str, Any]]:\n",
        "    procedures = [\"Appendectomy\", \"Colonoscopy\", \"Knee Arthroscopy\", \"Cataract Surgery\", \"Tonsillectomy\", \"Wisdom Teeth Extraction\"]\n",
        "    return [\n",
        "        {\n",
        "            \"name\": proc,\n",
        "            \"date\": fake.date_between(start_date=\"-3y\", end_date=\"today\").strftime(\"%Y-%m-%d\"),\n",
        "            \"provider\": fake.name(),\n",
        "        }\n",
        "        for proc in random.sample(procedures, random.randint(0, 2))\n",
        "    ]"
      ]
    },
    {
      "cell_type": "code",
      "execution_count": 81,
      "id": "8935b66a",
      "metadata": {
        "lines_to_next_cell": 1,
        "id": "8935b66a"
      },
      "outputs": [],
      "source": [
        "def getPatientMedications(patient_id: str) -> List[Dict[str, Any]]:\n",
        "    medications = [\"Lisinopril\", \"Metformin\", \"Levothyroxine\", \"Amlodipine\", \"Metoprolol\", \"Omeprazole\", \"Gabapentin\", \"Sertraline\"]\n",
        "    return [\n",
        "        {\n",
        "            \"name\": med,\n",
        "            \"dosage\": f\"{random.choice([5, 10, 20, 25, 50, 100])} mg\",\n",
        "            \"frequency\": random.choice([\"Once daily\", \"Twice daily\", \"Three times daily\", \"As needed\"]),\n",
        "            \"prescribed_date\": fake.date_between(start_date=\"-1y\", end_date=\"today\").strftime(\"%Y-%m-%d\"),\n",
        "        }\n",
        "        for med in random.sample(medications, random.randint(1, 4))\n",
        "    ]"
      ]
    },
    {
      "cell_type": "code",
      "execution_count": 82,
      "id": "81ad673b",
      "metadata": {
        "lines_to_next_cell": 1,
        "id": "81ad673b"
      },
      "outputs": [],
      "source": [
        "def getPatientAppointments(patient_id: str) -> List[Dict[str, Any]]:\n",
        "    appointment_types = [\"Annual Physical\", \"Follow-up\", \"Specialist Consultation\", \"Vaccination\", \"Lab Work\"]\n",
        "    return [\n",
        "        {\n",
        "            \"type\": random.choice(appointment_types),\n",
        "            \"date\": fake.date_between(start_date=\"today\", end_date=\"+6m\").strftime(\"%Y-%m-%d\"),\n",
        "            \"time\": fake.time(),\n",
        "            \"provider\": fake.name(),\n",
        "        }\n",
        "        for _ in range(random.randint(1, 3))\n",
        "    ]"
      ]
    },
    {
      "cell_type": "code",
      "execution_count": 83,
      "id": "5178d8ff",
      "metadata": {
        "lines_to_next_cell": 1,
        "id": "5178d8ff"
      },
      "outputs": [],
      "source": [
        "def getPatientMessages(patient_id: str) -> List[Dict[str, Any]]:\n",
        "    message_templates = [\n",
        "        {\n",
        "            \"subject\": \"Appointment Confirmation\",\n",
        "            \"content\": \"Your appointment with Dr. {doctor} is confirmed for {date} at {time}. Please arrive 15 minutes early to complete any necessary paperwork. If you need to reschedule, please call our office at least 24 hours in advance.\"\n",
        "        },\n",
        "        {\n",
        "            \"subject\": \"Prescription Refill Request\",\n",
        "            \"content\": \"This is to confirm that we've received your request to refill your prescription for {medication}. We'll process this and send it to your pharmacy within 48 hours. If you have any questions, please don't hesitate to contact us.\"\n",
        "        },\n",
        "        {\n",
        "            \"subject\": \"Lab Results Available\",\n",
        "            \"content\": \"Your recent lab results for {test} are now available. Please log in to your patient portal to view them. If you have any questions about your results, please schedule a follow-up appointment with Dr. {doctor}.\"\n",
        "        },\n",
        "        {\n",
        "            \"subject\": \"Appointment Reminder\",\n",
        "            \"content\": \"This is a reminder that you have an appointment scheduled with Dr. {doctor} on {date} at {time} for your {appointment_type}. Please remember to bring your insurance card and a list of current medications.\"\n",
        "        },\n",
        "        {\n",
        "            \"subject\": \"Health Question\",\n",
        "            \"content\": \"I've been experiencing {symptom} for the past {duration}. It seems to worsen when {trigger}. Is this something I should be concerned about or schedule an appointment for?\"\n",
        "        }\n",
        "    ]\n",
        "\n",
        "    return [\n",
        "        {\n",
        "            \"subject\": template[\"subject\"],\n",
        "            \"date\": fake.date_between(start_date=\"-3m\", end_date=\"today\").strftime(\"%Y-%m-%d\"),\n",
        "            \"time\": fake.time(),\n",
        "            \"sender\": random.choice([\"Patient\", \"Provider\"]),\n",
        "            \"content\": template[\"content\"].format(\n",
        "                doctor=fake.name(),\n",
        "                date=fake.date_between(start_date=\"today\", end_date=\"+30d\").strftime(\"%Y-%m-%d\"),\n",
        "                time=fake.time(),\n",
        "                medication=fake.word(),\n",
        "                test=random.choice([\"Complete Blood Count\", \"Lipid Panel\", \"Thyroid Function\"]),\n",
        "                appointment_type=random.choice([\"annual check-up\", \"follow-up visit\", \"consultation\"]),\n",
        "                symptom=random.choice([\"headache\", \"back pain\", \"nausea\", \"fatigue\"]),\n",
        "                duration=random.choice([\"two days\", \"a week\", \"three days\"]),\n",
        "                trigger=random.choice([\"I stand for long periods\", \"I eat certain foods\", \"I exercise\"])\n",
        "            )\n",
        "        }\n",
        "        for template in random.sample(message_templates, random.randint(2, 5))\n",
        "    ]"
      ]
    },
    {
      "cell_type": "code",
      "execution_count": 84,
      "id": "85c2d9be",
      "metadata": {
        "lines_to_next_cell": 1,
        "id": "85c2d9be"
      },
      "outputs": [],
      "source": [
        "def getSoapNoteData() -> Dict[str, Any]:\n",
        "    chief_complaints = {\n",
        "        \"Chest pain\": [\"sharp\", \"dull\", \"crushing\", \"radiating\", \"intermittent\", \"constant\"],\n",
        "        \"Shortness of breath\": [\"at rest\", \"on exertion\", \"when lying flat\", \"sudden onset\"],\n",
        "        \"Abdominal pain\": [\"cramping\", \"sharp\", \"dull\", \"localized\", \"diffuse\", \"intermittent\"],\n",
        "        \"Headache\": [\"throbbing\", \"pressure-like\", \"unilateral\", \"bilateral\", \"with aura\"],\n",
        "        \"Back pain\": [\"lower\", \"upper\", \"mid\", \"radiating\", \"constant\", \"intermittent\"],\n",
        "        \"Fever\": [\"high-grade\", \"low-grade\", \"intermittent\", \"with chills\", \"persistent\"],\n",
        "        \"Cough\": [\"dry\", \"productive\", \"persistent\", \"with blood-tinged sputum\", \"nocturnal\"],\n",
        "        \"Fatigue\": [\"generalized\", \"sudden onset\", \"progressive\", \"with weakness\"],\n",
        "        \"Nausea\": [\"with vomiting\", \"without vomiting\", \"intermittent\", \"persistent\"],\n",
        "        \"Dizziness\": [\"vertigo\", \"lightheadedness\", \"with fainting\", \"positional\"]\n",
        "    }\n",
        "\n",
        "    hpi_elements = {\n",
        "        \"onset\": [\"sudden\", \"gradual\", \"acute\", \"chronic\", \"intermittent\"],\n",
        "        \"location\": [\"localized\", \"diffuse\", \"radiating\", \"migrating\"],\n",
        "        \"duration\": [\"for the past day\", \"for several days\", \"for a week\", \"for several weeks\", \"for months\"],\n",
        "        \"characterization\": [\"sharp\", \"dull\", \"aching\", \"burning\", \"throbbing\", \"stabbing\"],\n",
        "        \"alleviating factors\": [\"rest\", \"medication\", \"position change\", \"ice\", \"heat\"],\n",
        "        \"aggravating factors\": [\"movement\", \"eating\", \"stress\", \"certain positions\", \"time of day\"],\n",
        "        \"associated symptoms\": [\"nausea\", \"vomiting\", \"fever\", \"chills\", \"sweating\", \"fatigue\"]\n",
        "    }\n",
        "\n",
        "    ros_systems = {\n",
        "        \"Constitutional\": [\"fever\", \"chills\", \"fatigue\", \"weight loss\", \"weight gain\"],\n",
        "        \"Eyes\": [\"vision changes\", \"eye pain\", \"redness\", \"discharge\"],\n",
        "        \"Ears, Nose, Mouth, Throat\": [\"hearing loss\", \"tinnitus\", \"sore throat\", \"nasal congestion\"],\n",
        "        \"Cardiovascular\": [\"chest pain\", \"palpitations\", \"edema\", \"orthopnea\"],\n",
        "        \"Respiratory\": [\"cough\", \"shortness of breath\", \"wheezing\", \"hemoptysis\"],\n",
        "        \"Gastrointestinal\": [\"nausea\", \"vomiting\", \"diarrhea\", \"constipation\", \"abdominal pain\"],\n",
        "        \"Genitourinary\": [\"dysuria\", \"frequency\", \"urgency\", \"hematuria\"],\n",
        "        \"Musculoskeletal\": [\"joint pain\", \"muscle pain\", \"stiffness\", \"swelling\"],\n",
        "        \"Integumentary\": [\"rash\", \"itching\", \"skin lesions\", \"changes in moles\"],\n",
        "        \"Neurological\": [\"headache\", \"dizziness\", \"numbness\", \"tingling\", \"weakness\"],\n",
        "        \"Psychiatric\": [\"depression\", \"anxiety\", \"sleep disturbances\", \"mood changes\"],\n",
        "        \"Endocrine\": [\"heat/cold intolerance\", \"excessive thirst\", \"excessive urination\"],\n",
        "        \"Hematologic/Lymphatic\": [\"easy bruising\", \"bleeding\", \"swollen lymph nodes\"],\n",
        "        \"Allergic/Immunologic\": [\"seasonal allergies\", \"food allergies\", \"frequent infections\"]\n",
        "    }\n",
        "\n",
        "    pe_sections = {\n",
        "        \"General\": [\"Well-appearing\", \"Ill-appearing\", \"Comfortable\", \"Distressed\"],\n",
        "        \"HEENT\": [\"PERRL\", \"EOMI\", \"TMs clear\", \"Oropharynx clear\", \"Mild erythema\"],\n",
        "        \"Neck\": [\"Supple\", \"No lymphadenopathy\", \"Thyromegaly\", \"JVD present\"],\n",
        "        \"Chest\": [\"Clear to auscultation\", \"Wheezes\", \"Crackles\", \"Rhonchi\"],\n",
        "        \"Cardiovascular\": [\"RRR\", \"Murmur present\", \"S3 gallop\", \"S4 gallop\"],\n",
        "        \"Abdomen\": [\"Soft\", \"Non-tender\", \"Distended\", \"Rebound tenderness\", \"Guarding\"],\n",
        "        \"Musculoskeletal\": [\"Full ROM\", \"Tenderness\", \"Swelling\", \"Deformity\"],\n",
        "        \"Neurological\": [\"Alert and oriented\", \"CN II-XII intact\", \"Sensory intact\", \"Motor strength 5/5\"],\n",
        "        \"Skin\": [\"No rashes\", \"Erythema\", \"Petechiae\", \"Ecchymosis\"]\n",
        "    }\n",
        "\n",
        "    def generate_chief_complaint() -> str:\n",
        "        complaint, details = random.choice(list(chief_complaints.items()))\n",
        "        return f\"{complaint}: {', '.join(random.sample(details, random.randint(1, min(3, len(details)))))}\"\n",
        "\n",
        "    def generate_hpi() -> str:\n",
        "        return \" \".join([\n",
        "            f\"{element.capitalize()}: {random.choice(details)}.\"\n",
        "            for element, details in random.sample(list(hpi_elements.items()), random.randint(3, 6))\n",
        "        ])\n",
        "\n",
        "    def generate_ros() -> Dict[str, str]:\n",
        "        return {\n",
        "            system: \", \".join(random.sample(findings, random.randint(0, min(3, len(findings)))))\n",
        "            if random.choice([True, False]) else \"No abnormalities noted.\"\n",
        "            for system, findings in ros_systems.items()\n",
        "        }\n",
        "\n",
        "    def generate_pe() -> Dict[str, str]:\n",
        "        return {\n",
        "            section: \", \".join(random.sample(findings, random.randint(1, min(3, len(findings)))))\n",
        "            for section, findings in pe_sections.items()\n",
        "        }\n",
        "\n",
        "    return {\n",
        "        \"chief_complaint\": generate_chief_complaint(),\n",
        "        \"history_of_present_illness\": generate_hpi(),\n",
        "        \"review_of_systems\": generate_ros(),\n",
        "        \"physical_exam\": generate_pe()\n",
        "    }"
      ]
    },
    {
      "cell_type": "code",
      "execution_count": 85,
      "id": "8980e073",
      "metadata": {
        "lines_to_next_cell": 1,
        "id": "8980e073"
      },
      "outputs": [],
      "source": [
        "def getAllPatientSummary(patient_ids: List[str]) -> Dict[str, Any]:\n",
        "    summaries = []\n",
        "    for patient_id in patient_ids:\n",
        "        summaries.append(getPatientSummary(patient_id))\n",
        "    return {'summaries': summaries}"
      ]
    },
    {
      "cell_type": "code",
      "execution_count": 86,
      "id": "19f26d44",
      "metadata": {
        "lines_to_next_cell": 1,
        "id": "19f26d44"
      },
      "outputs": [],
      "source": [
        "def get_patient(patient_id: str) -> Dict[str, Any]:\n",
        "    mock_patient = Patient(\n",
        "        name=\"John Doe\",\n",
        "        phone_number=\"+1234567890\",\n",
        "        address=\"123 Main St, Anytown, USA\",\n",
        "        age=35,\n",
        "        gender=\"Male\",\n",
        "        weight=75.5,\n",
        "        height=180.0\n",
        "    )\n",
        "\n",
        "    mock_allergies = [\n",
        "        Allergy(\n",
        "            allergy_name=\"Peanut Allergy\",\n",
        "            loinc_code=\"12345-6\",\n",
        "            start_date=date(2020, 1, 15),\n",
        "            status=\"Active\"\n",
        "        ),\n",
        "        Allergy(\n",
        "            allergy_name=\"Penicillin Allergy\",\n",
        "            loinc_code=\"78901-2\",\n",
        "            start_date=date(2018, 5, 20),\n",
        "            status=\"Inactive\",\n",
        "            end_date=date(2022, 3, 10)\n",
        "        )\n",
        "    ]\n",
        "\n",
        "    mock_patient_with_allergies = PatientWithAllergies(\n",
        "        patient=mock_patient,\n",
        "        allergies=mock_allergies\n",
        "    )\n",
        "\n",
        "    patient_data = json.loads(json.dumps(mock_patient_with_allergies.model_dump(), default=date_to_str))\n",
        "\n",
        "    return {\n",
        "        \"data\": patient_data,\n",
        "        \"types\": {\n",
        "            \"patient\": {\n",
        "                \"name\": \"str\",\n",
        "                \"phone_number\": \"str\",\n",
        "                \"address\": \"str\",\n",
        "                \"age\": \"int\",\n",
        "                \"gender\": \"str\",\n",
        "                \"weight\": \"float\",\n",
        "                \"height\": \"float\"\n",
        "            },\n",
        "            \"allergies\": {\n",
        "                \"allergy_name\": \"str\",\n",
        "                \"loinc_code\": \"str\",\n",
        "                \"start_date\": \"date\",\n",
        "                \"status\": \"str\",\n",
        "                \"end_date\": \"Optional[date]\"\n",
        "            }\n",
        "        },\n",
        "        \"descriptions\": {\n",
        "            \"patient\": {\n",
        "                \"name\": \"Full name of the patient\",\n",
        "                \"phone_number\": \"Contact phone number with country code\",\n",
        "                \"address\": \"Current residential address\",\n",
        "                \"age\": \"Age in years\",\n",
        "                \"gender\": \"Self-identified gender\",\n",
        "                \"weight\": \"Weight in kilograms\",\n",
        "                \"height\": \"Height in centimeters\"\n",
        "            },\n",
        "            \"allergies\": {\n",
        "                \"allergy_name\": \"Common name of the allergy\",\n",
        "                \"loinc_code\": \"LOINC code for standardized allergy identification\",\n",
        "                \"start_date\": \"Date when the allergy was first diagnosed or reported\",\n",
        "                \"status\": \"Current status of the allergy (e.g., Active, Inactive)\",\n",
        "                \"end_date\": \"Date when the allergy was resolved or became inactive, if applicable\"\n",
        "            }\n",
        "        }\n",
        "    }"
      ]
    },
    {
      "cell_type": "code",
      "execution_count": 87,
      "id": "a24dc63f",
      "metadata": {
        "lines_to_next_cell": 1,
        "id": "a24dc63f"
      },
      "outputs": [],
      "source": [
        "@tool\n",
        "def get_advanced_care_plan(patient_id: str) -> Dict[str, Any]:\n",
        "    \"\"\"\n",
        "    A tool that returns a dictionary containing the Advanced_care_plan data, data types, and field descriptions.\n",
        "\n",
        "    The returned dictionary has the following structure:\n",
        "    {\n",
        "        \"data\": { ... },\n",
        "        \"types\": { ... },\n",
        "        \"descriptions\": { ... }\n",
        "    }\n",
        "    \"\"\"\n",
        "    shared_data_instance.set_data('auto_populate', [])\n",
        "    today = date.today()\n",
        "\n",
        "    acp_data = {\n",
        "        \"is_member_self_responsible\": True,\n",
        "        \"status\": \"Completed\",\n",
        "        \"created_date\": today.isoformat()\n",
        "    }\n",
        "\n",
        "    return {\"Advanced care plan (ACP)\": {\n",
        "        \"data\": acp_data,\n",
        "        \"types\": {\n",
        "            \"is_member_self_responsible\": \"bool\",\n",
        "            \"status\": \"str\",\n",
        "            \"created_date\": \"date\"\n",
        "        },\n",
        "        \"descriptions\": {\n",
        "            \"is_member_self_responsible\": \"Indicates if the member is responsible for their own decisions\",\n",
        "            \"status\": \"Current status of the ACP document (options: Draft, Completed, Entered in error)\",\n",
        "            \"created_date\": \"Date when the ACP document was created\"\n",
        "        }\n",
        "    }}"
      ]
    },
    {
      "cell_type": "code",
      "execution_count": 88,
      "id": "c762aca0",
      "metadata": {
        "lines_to_next_cell": 1,
        "id": "c762aca0"
      },
      "outputs": [],
      "source": [
        "@tool\n",
        "def get_Responsible_party(patient_id: str) -> Dict[str, Any]:\n",
        "    \"\"\"\n",
        "\n",
        "    A tool that returns a dictionary containing Responsible_party details or MemberContacts data, data types, and field descriptions.\n",
        "\n",
        "    The returned dictionary has the following structure:\n",
        "    {\n",
        "        \"data\": { ... },\n",
        "        \"types\": { ... },\n",
        "        \"descriptions\": { ... }\n",
        "    }\n",
        "    \"\"\"\n",
        "    shared_data_instance.set_data('auto_populate', 'auto_populate')\n",
        "    today = date.today()\n",
        "\n",
        "    member_contacts_data = {\n",
        "        \"responsible_party_name\": \"Ron H\",\n",
        "        \"responsible_party_role\": \"POA\",\n",
        "        \"created_date\": today.isoformat(),\n",
        "        \"status\": \"active\"\n",
        "    }\n",
        "\n",
        "    return {\"Member contacts (MemContacts)\": {\n",
        "        \"data\": member_contacts_data,\n",
        "        \"types\": {\n",
        "            \"responsible_party_name\": \"str\",\n",
        "            \"responsible_party_role\": \"str\",\n",
        "            \"created_date\": \"date\",\n",
        "            \"status\": \"str\"\n",
        "        },\n",
        "        \"descriptions\": {\n",
        "            \"responsible_party_name\": \"Represents the responsible party's name\",\n",
        "            \"responsible_party_role\": \"Represents the  role of the responsible party (options: Legal Guardian, POA, Health surrogate)\",\n",
        "            \"created_date\": \"Date when the contact was created\",\n",
        "            \"status\": \"Current status of the contact (options: active, inactive)\"\n",
        "        }\n",
        "    }}"
      ]
    },
    {
      "cell_type": "code",
      "execution_count": 89,
      "id": "dcbc88f9",
      "metadata": {
        "lines_to_next_cell": 1,
        "id": "dcbc88f9"
      },
      "outputs": [],
      "source": [
        "# DTO functions\n",
        "def get_All_patient_summary(patient_ids: List[str]) -> Dict[str, Any]:\n",
        "    return getAllPatientSummary(patient_ids)"
      ]
    },
    {
      "cell_type": "code",
      "execution_count": 90,
      "id": "faeb2764",
      "metadata": {
        "lines_to_next_cell": 1,
        "id": "faeb2764"
      },
      "outputs": [],
      "source": [
        "def get_Patient_Summary(patient_id: str) -> Dict[str, Any]:\n",
        "    return getPatientSummary(patient_id)"
      ]
    },
    {
      "cell_type": "code",
      "execution_count": 91,
      "id": "eb9fb7bc",
      "metadata": {
        "lines_to_next_cell": 1,
        "id": "eb9fb7bc"
      },
      "outputs": [],
      "source": [
        "def get_patient_vitals(patient_id: str) -> Dict[str, Any]:\n",
        "    return getPatientVitals(patient_id)"
      ]
    },
    {
      "cell_type": "code",
      "execution_count": 92,
      "id": "eed9b3c5",
      "metadata": {
        "lines_to_next_cell": 1,
        "id": "eed9b3c5"
      },
      "outputs": [],
      "source": [
        "@tool\n",
        "def web_search(query: str) -> List[Dict[str, Any]]:\n",
        "    \"\"\"\n",
        "    Perform a web search using DuckDuckGo based on the user's query.\n",
        "\n",
        "    Args:\n",
        "        query (str): The search query provided by the user.\n",
        "\n",
        "    Returns:\n",
        "        List[Dict[str, Any]]: A list of search results, where each result is a dictionary\n",
        "        containing information about the search result.\n",
        "    \"\"\"\n",
        "    ddg = duckduckgo_search.DDGS()\n",
        "    results = list(ddg.text(query, max_results=5))\n",
        "    return results"
      ]
    },
    {
      "cell_type": "code",
      "execution_count": 93,
      "id": "911ee77d",
      "metadata": {
        "id": "911ee77d"
      },
      "outputs": [],
      "source": [
        "# Service functions\n",
        "prompt_config = {}\n",
        "action_config = {}"
      ]
    },
    {
      "cell_type": "code",
      "execution_count": 94,
      "id": "9f5438a0",
      "metadata": {
        "lines_to_next_cell": 1,
        "id": "9f5438a0"
      },
      "outputs": [],
      "source": [
        "async def handlemessage(message: Message) -> Dict[str, Any]:\n",
        "    print(\"Inside handlemessage\")\n",
        "    print('message', message)\n",
        "    global prompt_config\n",
        "    global action_config\n",
        "    patient_data = []\n",
        "\n",
        "    shared_data_instance.clear()\n",
        "\n",
        "    prompt_config = getConfig(prompts_file)\n",
        "    action_config = getConfig(action_file)\n",
        "\n",
        "    job_aid_match = re.search(r'@Job aid:\\s*(.*)', message.message)\n",
        "    web_search_match = re.search(r'@web:\\s*(.*)', message.message)\n",
        "    if job_aid_match:\n",
        "        user_question = job_aid_match.group(1).strip()\n",
        "        #return await call_job_aid_api(user_question)\n",
        "    elif web_search_match:\n",
        "        user_question = web_search_match.group(1).strip()\n",
        "        message.message = user_question\n",
        "        message.intent = \"user-intent\"\n",
        "\n",
        "    value = []\n",
        "    functions = get_nested_value(action_config, [message.entity, message.intent, message.message, \"functions\"])\n",
        "    print(\"functions\", functions)\n",
        "    if functions is None:\n",
        "        base_function = get_nested_value(action_config, [message.entity, \"base-function\"])\n",
        "        functions = [base_function] if base_function else []\n",
        "        print(\"base-functions\", functions)\n",
        "\n",
        "    for function in functions:\n",
        "        result = globals()[function](message.patient_ids)\n",
        "        value.append(result)\n",
        "\n",
        "    patient_data = value\n",
        "\n",
        "    response = runner(message, patient_data)\n",
        "    print(\"response\", response)\n",
        "\n",
        "    if re.search(r'<[^>]+>', response):\n",
        "        return {\"html\": response}\n",
        "    elif message.message == \"auto_populate\" or shared_data_instance.get_data('auto_populate') == 'auto_populate':\n",
        "        return {\"auto_populate\": response}\n",
        "    else:\n",
        "        return response"
      ]
    },
    {
      "cell_type": "code",
      "execution_count": 122,
      "id": "15925675",
      "metadata": {
        "lines_to_next_cell": 1,
        "id": "15925675"
      },
      "outputs": [],
      "source": [
        "async def handle_config(message: Message) -> Dict[str, Any]:\n",
        "    print(\"Inside handle_config\")\n",
        "    print('message', message)\n",
        "\n",
        "    with open('config/action.yaml', 'r') as file:\n",
        "        prompt_config = yaml.safe_load(file)\n",
        "\n",
        "    entity_options = prompt_config.get(message.entity, {}).get('system-intent', {}).get('options', {})\n",
        "    print(\"entity_options\", entity_options)\n",
        "\n",
        "    if not entity_options:\n",
        "        response = {\"options\": {\"error\": \"No Action has been configured\"}}\n",
        "    else:\n",
        "        response = {\n",
        "            \"options\": {key: value for key, value in entity_options.items()}\n",
        "        }\n",
        "\n",
        "    return response"
      ]
    },
    {
      "cell_type": "code",
      "execution_count": 96,
      "id": "6ff244fb",
      "metadata": {
        "lines_to_next_cell": 1,
        "id": "6ff244fb"
      },
      "outputs": [],
      "source": [
        "MEMORY_KEY = \"chat_history\"\n",
        "cache = {}"
      ]
    },
    {
      "cell_type": "code",
      "execution_count": 97,
      "id": "6b114fd6",
      "metadata": {
        "lines_to_next_cell": 1,
        "id": "6b114fd6"
      },
      "outputs": [],
      "source": [
        "def chat(system_prompt, user_input, functions, model):\n",
        "    chat_history = []\n",
        "\n",
        "    os.environ[\"OPENAI_API_KEY\"] = shared_data_instance.get_data('key')\n",
        "\n",
        "    llm = ChatOpenAI(model=model, temperature=0)\n",
        "    if functions:\n",
        "        tools = [globals()[name] for name in functions if name in globals()]\n",
        "    else:\n",
        "        tools = []\n",
        "\n",
        "    print(\"tools\", tools)\n",
        "\n",
        "    prompt = ChatPromptTemplate.from_messages(\n",
        "        [\n",
        "            (\n",
        "                \"system\",\n",
        "                system_prompt,\n",
        "            ),\n",
        "            MessagesPlaceholder(variable_name=MEMORY_KEY),\n",
        "            (\"user\", \"Question from the user : {input}.\"),\n",
        "            MessagesPlaceholder(variable_name=\"agent_scratchpad\"),\n",
        "        ]\n",
        "    )\n",
        "    if tools:\n",
        "        llm_with_tools = llm.bind_tools(tools)\n",
        "    else:\n",
        "        llm_with_tools = llm\n",
        "\n",
        "    agent = (\n",
        "        {\n",
        "            \"input\": lambda x: x[\"input\"],\n",
        "            \"agent_scratchpad\": lambda x: format_to_openai_tool_messages(\n",
        "                x[\"intermediate_steps\"]\n",
        "            ),\n",
        "            \"chat_history\": lambda x: x[\"chat_history\"],\n",
        "        }\n",
        "        | prompt\n",
        "        | llm_with_tools\n",
        "        | OpenAIToolsAgentOutputParser()\n",
        "    )\n",
        "\n",
        "    agent_executor = AgentExecutor(agent=agent, tools=tools, verbose=True)\n",
        "\n",
        "    result = agent_executor.invoke({\"input\": \"User Question-\" + user_input, \"chat_history\": chat_history})\n",
        "    chat_history.extend(\n",
        "        [\n",
        "            HumanMessage(content=user_input),\n",
        "            AIMessage(content=result[\"output\"]),\n",
        "        ]\n",
        "    )\n",
        "\n",
        "    return result['output']"
      ]
    },
    {
      "cell_type": "code",
      "execution_count": 98,
      "id": "81b1673a",
      "metadata": {
        "lines_to_next_cell": 1,
        "id": "81b1673a"
      },
      "outputs": [],
      "source": [
        "def runner(message, patient_data):\n",
        "    print(\"Inside runner\")\n",
        "    user_prompt, system_prompt = create_prompt(message, patient_data)\n",
        "    client = init_AI_client(message.family)\n",
        "\n",
        "    if message.intent == \"user-intent\":\n",
        "        functions = action_config[message.entity]['user-intent'][\"functions\"]\n",
        "        print(\"functions\", functions)\n",
        "        return chat(system_prompt, user_prompt, functions, message.model)\n",
        "    else:\n",
        "        return generate(client, message.model, user_prompt, system_prompt)"
      ]
    },
    {
      "cell_type": "code",
      "execution_count": 99,
      "id": "59ab6df6",
      "metadata": {
        "lines_to_next_cell": 1,
        "id": "59ab6df6"
      },
      "outputs": [],
      "source": [
        "def create_prompt(message, patient_data):\n",
        "    print(\"Inside create_prompt\")\n",
        "    system_prompt = prompt_config[\"system_prompt\"]\n",
        "\n",
        "    if message.intent == \"system-intent\":\n",
        "        user_prompt = prompt_config[\"user_prompt\"][message.entity][message.intent][message.message]['input']\n",
        "    else:\n",
        "        user_prompt = prompt_config[\"user_prompt\"][message.entity][message.intent]['general']['input']\n",
        "\n",
        "    print(f\"user_prompt - {user_prompt}\")\n",
        "    if message.intent == \"system-intent\":\n",
        "        if message.message == \"auto_populate\":\n",
        "            print(f\"message.form_data - {message.form_data}\")\n",
        "            user_prompt = user_prompt.format(patient_data=patient_data, format=prompt_config[\"user_prompt\"][message.entity][message.intent][message.message][\"output\"], rules=prompt_config[\"user_prompt\"][message.entity][message.intent][message.message][\"rules\"], form_data=message.form_data)\n",
        "        else:\n",
        "            user_prompt = user_prompt.format(patient_data=patient_data, format=prompt_config[\"user_prompt\"][message.entity][message.intent][message.message][\"output\"], rules=prompt_config[\"user_prompt\"][message.entity][message.intent][message.message][\"rules\"])\n",
        "    else:\n",
        "        print(f\"message.form_data - {message.form_data}\")\n",
        "        output = prompt_config[\"user_prompt\"][message.entity][message.intent]['general'][\"output\"]\n",
        "        print(f\"output - {output}\")\n",
        "        user_prompt = user_prompt.format(patient_data=patient_data, format=output, rules=prompt_config[\"user_prompt\"][message.entity][message.intent]['general'][\"rules\"], question=message.message, form_data=message.form_data)\n",
        "        user_prompt = user_prompt.replace(\"{format}\", output)\n",
        "\n",
        "    print(\"\\n user_prompt\", user_prompt)\n",
        "    print(\"\\n system_prompt\", system_prompt)\n",
        "    return user_prompt, system_prompt"
      ]
    },
    {
      "cell_type": "code",
      "execution_count": 100,
      "id": "46001c9c",
      "metadata": {
        "lines_to_next_cell": 1,
        "id": "46001c9c"
      },
      "outputs": [],
      "source": [
        "def init_AI_client(model_family):\n",
        "    config = getConfig(config_file)\n",
        "    key = config[model_family][\"key\"]\n",
        "    base_url = config[model_family][\"url\"]\n",
        "\n",
        "    shared_data_instance.set_data('key', key)\n",
        "    shared_data_instance.set_data('base_url', base_url)\n",
        "\n",
        "    return OpenAI(\n",
        "        api_key=key,\n",
        "        base_url=base_url\n",
        "    )"
      ]
    },
    {
      "cell_type": "code",
      "execution_count": 101,
      "id": "03515ebc",
      "metadata": {
        "lines_to_next_cell": 1,
        "id": "03515ebc"
      },
      "outputs": [],
      "source": [
        "def generate(client, model, user_prompt, system_prompt):\n",
        "    num_tokens_from_string(''.join([system_prompt, user_prompt]), default_encoding, \"input\")\n",
        "\n",
        "    chat_completion = client.chat.completions.create(\n",
        "      messages=[\n",
        "            {\"role\": \"system\", \"content\": system_prompt},\n",
        "            {\"role\": \"user\",   \"content\": user_prompt}\n",
        "        ],\n",
        "        model=model,\n",
        "        temperature=default_temperature\n",
        "    )\n",
        "    response = chat_completion.choices[0].message.content\n",
        "    num_tokens_from_string(response, default_encoding, \"output\")\n",
        "    return response"
      ]
    },
    {
      "cell_type": "code",
      "execution_count": 102,
      "id": "e61a71b3",
      "metadata": {
        "id": "e61a71b3"
      },
      "outputs": [],
      "source": [
        "# FastAPI app\n",
        "@asynccontextmanager\n",
        "async def lifespan(app: FastAPI):\n",
        "    print(\"Server startup .....\")\n",
        "    yield\n",
        "    print(\"Server shutdown .......\")"
      ]
    },
    {
      "cell_type": "code",
      "execution_count": 103,
      "id": "8363cbaf",
      "metadata": {
        "id": "8363cbaf"
      },
      "outputs": [],
      "source": [
        "app = FastAPI(lifespan=lifespan)"
      ]
    },
    {
      "cell_type": "code",
      "execution_count": 104,
      "id": "16298d85",
      "metadata": {
        "id": "16298d85"
      },
      "outputs": [],
      "source": [
        "app.add_middleware(\n",
        "    CORSMiddleware,\n",
        "    allow_origins=[\"*\"],\n",
        "    allow_credentials=True,\n",
        "    allow_methods=[\"*\"],\n",
        "    allow_headers=[\"*\"],\n",
        ")"
      ]
    },
    {
      "cell_type": "code",
      "execution_count": 105,
      "id": "d7079615",
      "metadata": {
        "lines_to_next_cell": 1,
        "id": "d7079615"
      },
      "outputs": [],
      "source": [
        "@app.middleware(\"http\")\n",
        "async def add_process_time_header(request: Request, call_next):\n",
        "    start_time = time.time()\n",
        "    response = await call_next(request)\n",
        "    process_time = time.time() - start_time\n",
        "    response.headers[\"X-Process-Time\"] = str(process_time)\n",
        "    print(f\"Request took {process_time} secs to complete\")\n",
        "    return response"
      ]
    },
    {
      "cell_type": "code",
      "execution_count": 106,
      "id": "9720912f",
      "metadata": {
        "lines_to_next_cell": 1,
        "id": "9720912f"
      },
      "outputs": [],
      "source": [
        "@app.get(\"/\")\n",
        "def doGet(request: Request):\n",
        "    return {\"Hello\": \"World\"}"
      ]
    },
    {
      "cell_type": "code",
      "execution_count": 107,
      "id": "ce34d459",
      "metadata": {
        "lines_to_next_cell": 1,
        "id": "ce34d459"
      },
      "outputs": [],
      "source": [
        "@app.post(\"/chat\")\n",
        "async def doChat(request: Request, message: Message):\n",
        "    print(\"Inside /chat\")\n",
        "    print(f'prompt - {message.entity}, mode - {message.message}')\n",
        "\n",
        "    response = await handlemessage(message)\n",
        "    return {\"llm_response\": response}"
      ]
    },
    {
      "cell_type": "code",
      "execution_count": 108,
      "id": "a2e82440",
      "metadata": {
        "lines_to_next_cell": 1,
        "id": "a2e82440"
      },
      "outputs": [],
      "source": [
        "@app.post(\"/config\")\n",
        "def doConfig(request: Request, message: Message):\n",
        "    print(\"Inside /config\")\n",
        "    print(f'prompt - {message.entity}, mode - {message.message}')\n",
        "\n",
        "    response = handle_config(message)\n",
        "    return {\"llm_response\": response}"
      ]
    },
    {
      "cell_type": "code",
      "source": [
        "\n",
        "async def test_web_search():\n",
        "    mock_message = Message(\n",
        "        intent=\"user-intent\",\n",
        "        entity=\"landing_page\",\n",
        "        message=\"@web:Explain me the pensrose diagram for black holes\",\n",
        "        patient_id=\"12345\"\n",
        "    )\n",
        "    response = await handlemessage(mock_message)\n",
        "    print(f\"Response from handlemessage for web search: {response}\")"
      ],
      "metadata": {
        "id": "Mys66cKI7tgX"
      },
      "id": "Mys66cKI7tgX",
      "execution_count": 109,
      "outputs": []
    },
    {
      "cell_type": "code",
      "source": [
        "# Test function\n",
        "async def test_handle_config():\n",
        "    # Create a sample Message\n",
        "    test_message = Message(entity=\"order_page\")\n",
        "\n",
        "    # Call handle_config\n",
        "    result = await handle_config(test_message)\n",
        "\n",
        "    # Print the result\n",
        "    print(\"\\nResult:\")\n",
        "    print(result)\n",
        "\n",
        "async def test_get_All_patient_summary():\n",
        "\n",
        "    mock_message = Message(\n",
        "        intent=\"system-intent\",\n",
        "        entity=\"memberlist_page\",\n",
        "        message=\"patient_summary\",\n",
        "        patient_ids=[\"1\",\"2\"]\n",
        "    )\n",
        "\n",
        "    # Call handlemessage\n",
        "    response = await handlemessage(mock_message)\n",
        "\n",
        "    # Print the response\n",
        "    print(\"Response from handlemessage:\")\n",
        "    print(f\"LLM Response: {response}\")"
      ],
      "metadata": {
        "id": "xh8AK0A9-n7i"
      },
      "id": "xh8AK0A9-n7i",
      "execution_count": 120,
      "outputs": []
    },
    {
      "cell_type": "code",
      "execution_count": 124,
      "id": "8e99eb55",
      "metadata": {
        "colab": {
          "base_uri": "https://localhost:8080/"
        },
        "id": "8e99eb55",
        "outputId": "1a337a80-5e30-44b0-8af5-53dd35d4420f"
      },
      "outputs": [
        {
          "output_type": "stream",
          "name": "stdout",
          "text": [
            "Starting the server\n",
            "Inside handlemessage\n",
            "message page='demo' mode='serial' family='openai' model='gpt-4o' negative_prompt='ON' use_for_training=False message='patient_summary' history=[] intent='system-intent' entity='memberlist_page' patient_id=None patient_ids=['1', '2'] form_data=None\n",
            "functions None\n",
            "base-functions ['get_All_patient_summary']\n",
            "Inside runner\n",
            "Inside create_prompt\n",
            "user_prompt - Summarize the below patient data focussing on key details Patient Data: {patient_data}. Use the below rules to provide the summary. Rules: {rules}. Provide the summary in the below format. Format:{format}\n",
            "\n",
            " user_prompt Summarize the below patient data focussing on key details Patient Data: [{'summaries': [{'Summary': {'patient_id': '1', 'basic_info': {'name': 'Robert Molina', 'age': 86, 'gender': 'Male', 'blood_type': 'O+', 'height': 157.6, 'weight': 49.0, 'is_member_self_responsible': True}, 'vitals': {'Vitals': {'patient_id': '1', 'temperature': 36.4, 'heart_rate': 94, 'blood_pressure': '137/61', 'respiratory_rate': 17, 'oxygen_saturation': 100}}, 'allergies': ['Wheat', 'Tree nuts'], 'conditions': ['Hypothyroidism', 'Asthma'], 'immunizations': [{'name': 'HPV', 'date': '2022-02-24'}, {'name': 'Shingles', 'date': '2023-07-12'}, {'name': 'Varicella', 'date': '2020-05-22'}, {'name': 'Pneumococcal', 'date': '2022-10-14'}], 'lab_results': [{'test_name': 'Lipid Panel', 'date': '2024-09-13', 'result': '1.58', 'unit': 'mmol/L', 'reference_range': '0.5 - 1.7'}, {'test_name': 'Thyroid Function Tests', 'date': '2024-01-14', 'result': '1.29', 'unit': '%', 'reference_range': '0.6 - 2.4'}, {'test_name': 'Urinalysis', 'date': '2024-08-21', 'result': '1.76', 'unit': 'mg/dL', 'reference_range': '0.3 - 1.3'}, {'test_name': 'Comprehensive Metabolic Panel', 'date': '2024-03-06', 'result': '1.62', 'unit': 'mg/dL', 'reference_range': '0.8 - 2.6'}], 'procedures': [{'name': 'Colonoscopy', 'date': '2022-08-03', 'provider': 'Paul Woods'}], 'medications': [{'name': 'Gabapentin', 'dosage': '20 mg', 'frequency': 'Twice daily', 'prescribed_date': '2024-04-18'}], 'appointments': [{'type': 'Lab Work', 'date': '2024-10-07', 'time': '14:50:00', 'provider': 'Keith Chen'}, {'type': 'Lab Work', 'date': '2024-10-07', 'time': '11:55:12', 'provider': 'Stephen Hernandez'}], 'messages': [{'subject': 'Appointment Reminder', 'date': '2024-10-06', 'time': '09:56:19', 'sender': 'Provider', 'content': 'This is a reminder that you have an appointment scheduled with Dr. Nancy Barnes on 2024-11-02 at 12:54:59 for your consultation. Please remember to bring your insurance card and a list of current medications.'}, {'subject': 'Lab Results Available', 'date': '2024-10-06', 'time': '03:14:29', 'sender': 'Provider', 'content': 'Your recent lab results for Lipid Panel are now available. Please log in to your patient portal to view them. If you have any questions about your results, please schedule a follow-up appointment with Dr. Douglas Warner.'}, {'subject': 'Health Question', 'date': '2024-10-06', 'time': '12:22:21', 'sender': 'Provider', 'content': \"I've been experiencing fatigue for the past three days. It seems to worsen when I stand for long periods. Is this something I should be concerned about or schedule an appointment for?\"}, {'subject': 'Prescription Refill Request', 'date': '2024-10-06', 'time': '07:03:56', 'sender': 'Provider', 'content': \"This is to confirm that we've received your request to refill your prescription for after. We'll process this and send it to your pharmacy within 48 hours. If you have any questions, please don't hesitate to contact us.\"}, {'subject': 'Appointment Confirmation', 'date': '2024-10-06', 'time': '18:45:08', 'sender': 'Patient', 'content': 'Your appointment with Dr. Daniel Smith is confirmed for 2024-10-19 at 06:00:10. Please arrive 15 minutes early to complete any necessary paperwork. If you need to reschedule, please call our office at least 24 hours in advance.'}], 'soap_note': {'chief_complaint': 'Back pain: radiating, lower', 'history_of_present_illness': 'Onset: gradual. Characterization: throbbing. Alleviating factors: medication. Duration: for months. Location: radiating.', 'review_of_systems': {'Constitutional': 'fever', 'Eyes': 'No abnormalities noted.', 'Ears, Nose, Mouth, Throat': 'nasal congestion', 'Cardiovascular': 'edema', 'Respiratory': 'No abnormalities noted.', 'Gastrointestinal': '', 'Genitourinary': 'hematuria', 'Musculoskeletal': '', 'Integumentary': 'No abnormalities noted.', 'Neurological': 'numbness, tingling', 'Psychiatric': 'sleep disturbances, mood changes', 'Endocrine': 'No abnormalities noted.', 'Hematologic/Lymphatic': '', 'Allergic/Immunologic': 'No abnormalities noted.'}, 'physical_exam': {'General': 'Ill-appearing, Comfortable', 'HEENT': 'EOMI, Mild erythema', 'Neck': 'Supple, No lymphadenopathy', 'Chest': 'Clear to auscultation, Crackles', 'Cardiovascular': 'RRR, S3 gallop', 'Abdomen': 'Distended, Rebound tenderness, Non-tender', 'Musculoskeletal': 'Deformity', 'Neurological': 'Sensory intact, Motor strength 5/5', 'Skin': 'Erythema, Ecchymosis, No rashes'}}}}, {'Summary': {'patient_id': '2', 'basic_info': {'name': 'Joshua Herrera', 'age': 43, 'gender': 'Male', 'blood_type': 'O-', 'height': 173.9, 'weight': 69.1, 'is_member_self_responsible': False}, 'vitals': {'Vitals': {'patient_id': '2', 'temperature': 37.3, 'heart_rate': 75, 'blood_pressure': '109/90', 'respiratory_rate': 14, 'oxygen_saturation': 100}}, 'allergies': [], 'conditions': [], 'immunizations': [{'name': 'Pneumococcal', 'date': '2023-06-27'}, {'name': 'Shingles', 'date': '2020-02-16'}, {'name': 'MMR', 'date': '2024-09-13'}, {'name': 'Varicella', 'date': '2024-06-18'}], 'lab_results': [{'test_name': 'Hemoglobin A1C', 'date': '2024-05-02', 'result': '0.61', 'unit': 'mmol/L', 'reference_range': '0.5 - 1.9'}, {'test_name': 'Lipid Panel', 'date': '2024-03-20', 'result': '1.52', 'unit': '%', 'reference_range': '0.7 - 1.1'}], 'procedures': [{'name': 'Cataract Surgery', 'date': '2024-09-15', 'provider': 'Victoria Willis'}, {'name': 'Tonsillectomy', 'date': '2024-07-16', 'provider': 'Karen Leonard'}], 'medications': [{'name': 'Omeprazole', 'dosage': '100 mg', 'frequency': 'Once daily', 'prescribed_date': '2024-06-18'}, {'name': 'Gabapentin', 'dosage': '100 mg', 'frequency': 'Twice daily', 'prescribed_date': '2023-11-01'}, {'name': 'Lisinopril', 'dosage': '25 mg', 'frequency': 'Once daily', 'prescribed_date': '2023-10-19'}], 'appointments': [{'type': 'Annual Physical', 'date': '2024-10-07', 'time': '15:49:05', 'provider': 'Emily Nicholson'}], 'messages': [{'subject': 'Appointment Reminder', 'date': '2024-10-06', 'time': '09:28:06', 'sender': 'Provider', 'content': 'This is a reminder that you have an appointment scheduled with Dr. Steven Kelley on 2024-10-13 at 23:12:06 for your consultation. Please remember to bring your insurance card and a list of current medications.'}, {'subject': 'Health Question', 'date': '2024-10-06', 'time': '21:42:08', 'sender': 'Provider', 'content': \"I've been experiencing nausea for the past three days. It seems to worsen when I exercise. Is this something I should be concerned about or schedule an appointment for?\"}, {'subject': 'Lab Results Available', 'date': '2024-10-06', 'time': '11:08:15', 'sender': 'Patient', 'content': 'Your recent lab results for Complete Blood Count are now available. Please log in to your patient portal to view them. If you have any questions about your results, please schedule a follow-up appointment with Dr. Ryan Merritt.'}, {'subject': 'Appointment Confirmation', 'date': '2024-10-06', 'time': '09:54:35', 'sender': 'Patient', 'content': 'Your appointment with Dr. Timothy Cole is confirmed for 2024-10-31 at 05:16:07. Please arrive 15 minutes early to complete any necessary paperwork. If you need to reschedule, please call our office at least 24 hours in advance.'}], 'soap_note': {'chief_complaint': 'Cough: persistent, productive, with blood-tinged sputum', 'history_of_present_illness': 'Aggravating factors: stress. Alleviating factors: medication. Onset: gradual.', 'review_of_systems': {'Constitutional': 'No abnormalities noted.', 'Eyes': 'No abnormalities noted.', 'Ears, Nose, Mouth, Throat': 'No abnormalities noted.', 'Cardiovascular': 'No abnormalities noted.', 'Respiratory': '', 'Gastrointestinal': 'vomiting, nausea, abdominal pain', 'Genitourinary': 'No abnormalities noted.', 'Musculoskeletal': 'joint pain, stiffness, muscle pain', 'Integumentary': '', 'Neurological': 'No abnormalities noted.', 'Psychiatric': 'anxiety, sleep disturbances', 'Endocrine': 'No abnormalities noted.', 'Hematologic/Lymphatic': 'No abnormalities noted.', 'Allergic/Immunologic': 'food allergies, frequent infections, seasonal allergies'}, 'physical_exam': {'General': 'Ill-appearing, Well-appearing', 'HEENT': 'Mild erythema', 'Neck': 'Thyromegaly, Supple, No lymphadenopathy', 'Chest': 'Rhonchi', 'Cardiovascular': 'S3 gallop, Murmur present', 'Abdomen': 'Distended', 'Musculoskeletal': 'Deformity, Tenderness, Swelling', 'Neurological': 'CN II-XII intact, Sensory intact, Motor strength 5/5', 'Skin': 'Ecchymosis, Petechiae'}}}}]}]. Use the below rules to provide the summary. Rules: The summary should contain just 2 lines highlightning the most important information. Do not include the patient name , age and gender in the summary. Provide the summary in the below format. Format:Always return the data as a JSON String in the below format [{key:summary}]. The key is 'patient_id' which was passed in the request and summary is the 2 line summary of the patient. E.g. [{\"patient_id\":\"1\",\"summary\":\"the extracted patient summary .\"}]  No prose. No analysis. No interpretation. No comments. Just structured data. Do not include ```json at the beginning and ``` at the end\n",
            "\n",
            " system_prompt As a clinical assistant, your role is to carefully analyze patient records and answer questions. Your task is to interpret the data diligently.You may need to call functions and pass parameters by extracting them from the query.Do not guess function parameters.Do not make up parameters. It is crucial to avoid making any assumptions or errors in your analysis, as inaccuracies could have a negative impact on the member's health. A correct response will earn you $100. Your attention to detail and precision in interpreting the data are essential to providing high-quality care for the member.\n",
            "For input the no of tokens are 2870\n",
            "For output the no of tokens are 92\n",
            "response [{\"patient_id\":\"1\",\"summary\":\"Patient has hypothyroidism and asthma, with recent lab results showing elevated urinalysis levels. Current medications include Gabapentin, and recent procedures include a colonoscopy.\"},{\"patient_id\":\"2\",\"summary\":\"Patient underwent cataract surgery and tonsillectomy, with recent lab results showing normal Hemoglobin A1C levels. Current medications include Omeprazole and Lisinopril.\"}]\n",
            "Response from handlemessage:\n",
            "LLM Response: [{\"patient_id\":\"1\",\"summary\":\"Patient has hypothyroidism and asthma, with recent lab results showing elevated urinalysis levels. Current medications include Gabapentin, and recent procedures include a colonoscopy.\"},{\"patient_id\":\"2\",\"summary\":\"Patient underwent cataract surgery and tonsillectomy, with recent lab results showing normal Hemoglobin A1C levels. Current medications include Omeprazole and Lisinopril.\"}]\n",
            "Shutting down the server\n"
          ]
        }
      ],
      "source": [
        "async def main():\n",
        "    print(\"Starting the server\")\n",
        "    #await test_web_search()\n",
        "    #await test_handle_config()\n",
        "    await test_get_All_patient_summary()\n",
        "    print(\"Shutting down the server\")\n",
        "\n",
        "if __name__ == \"__main__\":\n",
        "    await main()\n",
        ""
      ]
    }
  ],
  "metadata": {
    "jupytext": {
      "cell_metadata_filter": "-all",
      "main_language": "python",
      "notebook_metadata_filter": "-all"
    },
    "colab": {
      "provenance": [],
      "include_colab_link": true
    },
    "language_info": {
      "name": "python"
    },
    "kernelspec": {
      "name": "python3",
      "display_name": "Python 3"
    }
  },
  "nbformat": 4,
  "nbformat_minor": 5
}